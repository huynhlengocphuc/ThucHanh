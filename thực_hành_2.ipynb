{
  "nbformat": 4,
  "nbformat_minor": 0,
  "metadata": {
    "colab": {
      "provenance": [],
      "authorship_tag": "ABX9TyPtUN3/ts8UkU9za5vddAHR",
      "include_colab_link": true
    },
    "kernelspec": {
      "name": "python3",
      "display_name": "Python 3"
    },
    "language_info": {
      "name": "python"
    }
  },
  "cells": [
    {
      "cell_type": "markdown",
      "metadata": {
        "id": "view-in-github",
        "colab_type": "text"
      },
      "source": [
        "<a href=\"https://colab.research.google.com/github/huynhlengocphuc/ThucHanh/blob/main/th%E1%BB%B1c_h%C3%A0nh_2.ipynb\" target=\"_parent\"><img src=\"https://colab.research.google.com/assets/colab-badge.svg\" alt=\"Open In Colab\"/></a>"
      ]
    },
    {
      "cell_type": "markdown",
      "source": [
        "THUC HANH 1\n"
      ],
      "metadata": {
        "id": "O_FZH9iIeUN_"
      }
    },
    {
      "cell_type": "code",
      "execution_count": null,
      "metadata": {
        "colab": {
          "base_uri": "https://localhost:8080/"
        },
        "id": "LyoWWJIZR-kF",
        "outputId": "56632e57-a085-436b-e5d7-b6494d4ff26f"
      },
      "outputs": [
        {
          "output_type": "stream",
          "name": "stdout",
          "text": [
            "P(A) =  0.7528\n",
            "P(B) =  0.4992\n",
            "P(C) =  0.2472\n",
            "P(D) =  0.4937\n",
            "P(E) =  0.7464\n",
            "P(C|D) =  0.5007089325501317\n",
            "P(C|E) =  0.3311897106109325\n"
          ]
        }
      ],
      "source": [
        "import math\n",
        "import random\n",
        "def chon_gioi_tinh():\n",
        "  return random.choice([\"Nam\", \"Nu\"])\n",
        "A=0\n",
        "B=0\n",
        "C=0\n",
        "D=0\n",
        "E=0\n",
        "random.seed(0)\n",
        "for _ in range(10000):\n",
        "  thu_nhat = chon_gioi_tinh()\n",
        "  thu_hai = chon_gioi_tinh()\n",
        "  if not(thu_nhat == \"Nu\" and thu_hai == \"Nu\"):\n",
        "     A += 1\n",
        "  if (thu_nhat == \"Nam\" and thu_hai == \"Nu\") or(thu_nhat == \"Nu\" and thu_hai == \"Nam\"):\n",
        "     B += 1\n",
        "  if thu_nhat == \"Nu\" and thu_hai == \"Nu\":\n",
        "      C += 1\n",
        "  if thu_hai == \"Nu\":\n",
        "      D += 1\n",
        "  if thu_nhat == \"Nu\" or thu_hai == \"Nu\":\n",
        "      E += 1\n",
        "print(\"P(A) = \", A/10000)\n",
        "print(\"P(B) = \", B/10000)\n",
        "print(\"P(C) = \", C/10000)\n",
        "print(\"P(D) = \", D/10000)\n",
        "print(\"P(E) = \", E/10000)\n",
        "print(\"P(C|D) = \", C/D)\n",
        "print(\"P(C|E) = \", C/E)"
      ]
    },
    {
      "cell_type": "markdown",
      "source": [
        "THUC HANH 2"
      ],
      "metadata": {
        "id": "Bi18j03heZIX"
      }
    },
    {
      "cell_type": "code",
      "source": [
        "import numpy as np\n",
        "import matplotlib.pyplot as plt\n",
        "x = np.linspace(-1, 2, 100)\n",
        "def uniform_pdf(x):\n",
        "  return 1 if x >= 0 and x < 1 else 0\n",
        "y = []\n",
        "for i in range(100):\n",
        "  y.append(uniform_pdf(x[i]))\n",
        "plt.plot(x, y, 'r')\n",
        "plt.show()"
      ],
      "metadata": {
        "colab": {
          "base_uri": "https://localhost:8080/",
          "height": 265
        },
        "id": "mfgPyZFXdalj",
        "outputId": "a7c61e0a-e5ea-4593-bddf-2beb668f262b"
      },
      "execution_count": null,
      "outputs": [
        {
          "output_type": "display_data",
          "data": {
            "text/plain": [
              "<Figure size 432x288 with 1 Axes>"
            ],
            "image/png": "[encoded data removed]"
          },
          "metadata": {
            "needs_background": "light"
          }
        }
      ]
    },
    {
      "cell_type": "markdown",
      "source": [
        "THUC HANH 3"
      ],
      "metadata": {
        "id": "v5KrQp0nebTH"
      }
    },
    {
      "cell_type": "code",
      "source": [
        "import numpy as np\n",
        "import matplotlib.pyplot as plt\n",
        "x = np.linspace(-1, 2, 100)\n",
        "def uniform_cdf(x):\n",
        "  if x < 0:\n",
        "    return 0\n",
        "  elif x < 1:\n",
        "    return x\n",
        "  else:\n",
        "    return 1\n",
        "y = []\n",
        "for i in range(100):\n",
        "  y.append(uniform_cdf(x[i]))\n",
        "plt.plot(x, y, 'r')\n",
        "plt.show()"
      ],
      "metadata": {
        "colab": {
          "base_uri": "https://localhost:8080/",
          "height": 265
        },
        "id": "EYuuySyFdsdw",
        "outputId": "e156346a-b11a-4112-fa17-92b6599eba70"
      },
      "execution_count": null,
      "outputs": [
        {
          "output_type": "display_data",
          "data": {
            "text/plain": [
              "<Figure size 432x288 with 1 Axes>"
            ],
            "image/png": "[encoded data removed]"
          },
          "metadata": {
            "needs_background": "light"
          }
        }
      ]
    },
    {
      "cell_type": "markdown",
      "source": [
        "THUC HANH 4"
      ],
      "metadata": {
        "id": "f8dyMww_scKr"
      }
    },
    {
      "cell_type": "code",
      "source": [
        "def normal_pdf(x, mu=0, sigma=1):\n",
        "  sqrt_two_pi = math.sqrt(2 * math.pi)\n",
        "  return (math.exp(-(x-mu) ** 2 / 2 / sigma ** 2) / (sqrt_two_pi * sigma))\n",
        "xs = [x / 10.0 for x in range(-50, 50)]\n",
        "import numpy as np\n",
        "import matplotlib.pyplot as plt\n",
        "plt.plot(xs,[normal_pdf(x,sigma=1) for x in xs],'-',label='mu=0,sigma=1')\n",
        "plt.plot(xs,[normal_pdf(x,sigma=2) for x in xs],'--',label='mu=0,sigma=2')\n",
        "plt.plot(xs,[normal_pdf(x,sigma=0.5) for x in xs],':',label='mu=0,sigma=0.5')\n",
        "plt.plot(xs,[normal_pdf(x,mu=-1) for x in xs],'-.',label='mu=-1,sigma=1')\n",
        "plt.legend()\n",
        "plt.title(\"Các trường hợp của pdf\")\n",
        "plt.show()"
      ],
      "metadata": {
        "colab": {
          "base_uri": "https://localhost:8080/",
          "height": 281
        },
        "id": "ZFF_U5K7sC67",
        "outputId": "e3ec8f28-3cb9-4029-e996-ff5d1ec7725b"
      },
      "execution_count": null,
      "outputs": [
        {
          "output_type": "display_data",
          "data": {
            "text/plain": [
              "<Figure size 432x288 with 1 Axes>"
            ],
            "image/png": "[encoded data removed]"
          },
          "metadata": {
            "needs_background": "light"
          }
        }
      ]
    },
    {
      "cell_type": "markdown",
      "source": [
        "THUC HANH 5"
      ],
      "metadata": {
        "id": "-yhMAWyYsgGQ"
      }
    },
    {
      "cell_type": "code",
      "source": [
        "def normal_cdf(x, mu=0,sigma=1):\n",
        "  return (1 + math.erf((x - mu) / math.sqrt(2) / sigma)) / 2\n",
        "xs = [x / 10.0 for x in range(-50, 50)]\n",
        "plt.plot(xs,[normal_cdf(x,sigma=1) for x in xs],'-',label='mu=0,sigma=1')\n",
        "plt.plot(xs,[normal_cdf(x,sigma=2) for x in xs],'--',label='mu=0,sigma=2')\n",
        "plt.plot(xs,[normal_cdf(x,sigma=0.5) for x in xs],':',label='mu=0,sigma=0.5')\n",
        "plt.plot(xs,[normal_cdf(x,mu=-1) for x in xs],'-.',label='mu=-1,sigma=1')\n",
        "plt.legend(loc=4)\n",
        "plt.title(\"Các trường hợp của cdf\")\n",
        "plt.show()"
      ],
      "metadata": {
        "colab": {
          "base_uri": "https://localhost:8080/",
          "height": 281
        },
        "id": "rWxgKUTSsS-i",
        "outputId": "95f2a1d9-fc78-4d07-a91e-efec647516c7"
      },
      "execution_count": null,
      "outputs": [
        {
          "output_type": "display_data",
          "data": {
            "text/plain": [
              "<Figure size 432x288 with 1 Axes>"
            ],
            "image/png": "[encoded data removed]"
          },
          "metadata": {
            "needs_background": "light"
          }
        }
      ]
    },
    {
      "cell_type": "markdown",
      "source": [
        "THUC HANH 6"
      ],
      "metadata": {
        "id": "J3hIdGYqsiNx"
      }
    },
    {
      "cell_type": "code",
      "source": [
        "import math\n",
        "from sklearn.naive_bayes import BernoulliNB\n",
        "#thư viện hàm Bayes-Bernoulli Naive Bayes\n",
        "import numpy as np\n",
        "e1 = [1, 1, 0, 1, 0] \n",
        "e2 = [0, 1, 1, 0, 0]\n",
        "e3 = [1, 0, 1, 0, 1]\n",
        "e4 = [1, 1, 1, 1, 0]\n",
        "e5 = [0, 1, 0, 1, 0]\n",
        "e6 = [0, 0, 0, 1, 1]\n",
        "e7 = [0, 1, 0, 0, 0]\n",
        "e8 = [1, 1, 0, 1, 0]\n",
        "e9 = [0, 0, 1, 1, 1]\n",
        "e10 = [1, 0, 1, 0, 1]\n",
        "train_data = np.array([e1, e2, e3, e4,e5, e6, e7, e8, e9, e10])\n",
        "label = np.array(['N', 'N', 'S', 'S', 'S','N', 'S', 'S', 'N', 'S'])\n",
        "e11 = np.array([[1, 0, 0, 1, 1]]) \n",
        "#test data;\n",
        "clf1 = BernoulliNB(alpha=1e-10)\n",
        "clf1.fit(train_data, label) \n",
        "BernoulliNB(alpha=1e-10, binarize=0.0,class_prior=None, fit_prior=True)\n",
        "#Huan luyen (phân tích, xử lý ..)\n",
        "print('Probability of e11 in each class:',clf1.predict_proba(e11)) \n",
        "#xác suất\n",
        "print('Predicting class of e11:',str(clf1.predict(e11)[0]))"
      ],
      "metadata": {
        "colab": {
          "base_uri": "https://localhost:8080/"
        },
        "id": "8vAGueiUj5aB",
        "outputId": "521271ca-6f1f-4779-cb96-49897e4cc9ba"
      },
      "execution_count": null,
      "outputs": [
        {
          "output_type": "stream",
          "name": "stdout",
          "text": [
            "Probability of e11 in each class: [[0.45762712 0.54237288]]\n",
            "Predicting class of e11: S\n"
          ]
        }
      ]
    },
    {
      "cell_type": "markdown",
      "source": [
        "THUC HANH 7"
      ],
      "metadata": {
        "id": "_y8KXS5AcYjh"
      }
    },
    {
      "cell_type": "code",
      "source": [
        "#pip install scikit-learn...\n",
        "#KeyboardInterrupt\n",
        "#naive_bayes_multinomial.py...\n",
        "from sklearn.naive_bayes import MultinomialNB\n",
        "#thư viện hàm Bayes-Multinomial Naive Bayes\n",
        "import numpy as np\n",
        "#train data-dữ liệu huấn luyện\n",
        "e1 = [1, 2, 1, 0, 1, 0, 0]\n",
        "e2 = [0, 2, 0, 0, 1, 1, 1]\n",
        "e3 = [1, 0, 1, 1, 0, 2, 0]\n",
        "train_data = np.array([e1, e2, e3])\n",
        "label = np.array(['N', 'N', 'S'])\n",
        "e4 = np.array([[1, 0, 0, 0, 0, 0, 1]]) #test data–dữ liệu kiểm tra\n",
        "clf1 = MultinomialNB(alpha=1)\n",
        "clf1.fit(train_data, label)\n",
        "#Huan luyen (phân tích, xử lý ..)\n",
        "print('Probability of e4 in each class:', clf1.predict_proba(e4))\n",
        "print('Predicting class of e4:', str(clf1.predict(e4)[0]))"
      ],
      "metadata": {
        "colab": {
          "base_uri": "https://localhost:8080/"
        },
        "id": "uhKtsOO8cX39",
        "outputId": "9e374ed8-ad73-4684-f8d1-b37504bb94c3"
      },
      "execution_count": null,
      "outputs": [
        {
          "output_type": "stream",
          "name": "stdout",
          "text": [
            "Probability of e4 in each class: [[0.66589595 0.33410405]]\n",
            "Predicting class of e4: N\n"
          ]
        }
      ]
    },
    {
      "cell_type": "markdown",
      "source": [
        "THUC HANH  8"
      ],
      "metadata": {
        "id": "FsagsajfdGdF"
      }
    },
    {
      "cell_type": "code",
      "source": [
        "import math\n",
        "data = [0.6, 0.24, 0.36, 1.20, 1.8, 4.40, 2.2, 3.2, 60, 80]\n",
        "def mean(data): #median —trung vị(giá trị ở giữa -middle value)\n",
        " return sum(data)/len(data)\n",
        "mu = mean(data)\n",
        "print(mu)\n",
        "import numpy #sử dụng thư viện numpy\n",
        "numpy.mean(data)\n",
        "data = [0.6, 0.24, 0.36, 1.20, 1.8, 4.40, 2.2, 3.2, 60, 80]\n",
        "import statistics #sử dụng thư viện thống kê\n",
        "print(statistics.mean(data))\n",
        "#Mode là giá trị xuất hiện nhiều lần nhất trong tập dữ liệu data\n",
        "def mode(data):\n",
        "  dmax = data[5]\n",
        "  for d in data:\n",
        "      if data.count(d) > data.count(dmax):\n",
        "        dmax = d\n",
        "  return dmax\n",
        "mode(data)"
      ],
      "metadata": {
        "colab": {
          "base_uri": "https://localhost:8080/"
        },
        "id": "suBHyA_KdF9K",
        "outputId": "9d384042-9d33-42d7-f1e5-cd213b9d837f"
      },
      "execution_count": null,
      "outputs": [
        {
          "output_type": "stream",
          "name": "stdout",
          "text": [
            "15.4\n",
            "15.4\n"
          ]
        },
        {
          "output_type": "execute_result",
          "data": {
            "text/plain": [
              "4.4"
            ]
          },
          "metadata": {},
          "execution_count": 5
        }
      ]
    },
    {
      "cell_type": "markdown",
      "source": [
        "THUC HANH 9"
      ],
      "metadata": {
        "id": "M67qF8QLd7OF"
      }
    },
    {
      "cell_type": "code",
      "source": [
        "#Mode là giá trị xuất hiện nhiều lần nhất trong tập dữ liệu data\n",
        "data = [1.6, 52.8, 18.36, 5.2, 1.8, 4.9, 2.5, 3.2, 60, 90]\n",
        "def mode(data):\n",
        "  dmax = data[7]\n",
        "  for d in data:\n",
        "    if data.count(d) > data.count(dmax):\n",
        "      dmax = d\n",
        "  return dmax\n",
        "mode(data)\n",
        "import statistics #sử dụng thư viện thống kê\n",
        "print(statistics.mean(data))\n"
      ],
      "metadata": {
        "colab": {
          "base_uri": "https://localhost:8080/"
        },
        "id": "KFBXfJ_Pd_qG",
        "outputId": "bed17562-f9e0-4a79-bada-ca337498c9fa"
      },
      "execution_count": null,
      "outputs": [
        {
          "output_type": "stream",
          "name": "stdout",
          "text": [
            "24.036\n"
          ]
        }
      ]
    },
    {
      "cell_type": "markdown",
      "source": [
        "THUC HANH 10"
      ],
      "metadata": {
        "id": "jUSnVpQzxni1"
      }
    },
    {
      "cell_type": "code",
      "source": [
        "import math\n",
        "from matplotlib import pyplot as plt\n",
        "SoGiay = [20.4, 26.2, 18.9, 21.0, 20.6, 17.7,19.1,22.4]\n",
        "SoLanChay = [1,2,3,4,5,6,7,8]\n",
        "xs = [i + 0.3 for i, _ in enumerate(SoLanChay)]\n",
        "plt.bar(xs, SoGiay)\n",
        "plt.xticks([i + 0.3 for i, _ in enumerate(SoLanChay)], SoLanChay)\n",
        "plt.show()#Ghi thêm title chính, title OX, title OY;"
      ],
      "metadata": {
        "colab": {
          "base_uri": "https://localhost:8080/",
          "height": 265
        },
        "id": "2te2aMDNxqA-",
        "outputId": "6cb0f14f-e534-44c7-9eb2-1a1fb58a7927"
      },
      "execution_count": null,
      "outputs": [
        {
          "output_type": "display_data",
          "data": {
            "text/plain": [
              "<Figure size 432x288 with 1 Axes>"
            ],
            "image/png": "[encoded data removed]"
          },
          "metadata": {
            "needs_background": "light"
          }
        }
      ]
    },
    {
      "cell_type": "markdown",
      "source": [
        "THUC HANH 11\n"
      ],
      "metadata": {
        "id": "4WtsePv6GDhi"
      }
    },
    {
      "cell_type": "code",
      "source": [
        "from scipy import stats\n",
        "import numpy as np\n",
        "from numpy import random\n",
        "a = random.normal(0,1,10000)\n",
        "mean, sigma = np.mean(a), np.std(a)\n",
        " # conf_int_a (confidence interval a- khoảng tin cậy của a);\n",
        "conf_int_a = stats.norm.interval(0.68, loc=mean, scale=sigma)\n",
        "conf_int_b = stats.norm.interval(0.68, loc=mean, scale=sigma /\n",
        "np.sqrt(len(a)))\n",
        "conf_int_a\n",
        "(-1.0011149125527312, 1.0059797764202412)\n",
        "conf_int_b\n",
        "(-0.0076030415111100983, 0.012467905378619625)"
      ],
      "metadata": {
        "colab": {
          "base_uri": "https://localhost:8080/"
        },
        "id": "MPBOVMOuGJsE",
        "outputId": "d1ecfcc7-d696-4690-9f66-dc967828eb3e"
      },
      "execution_count": 1,
      "outputs": [
        {
          "output_type": "execute_result",
          "data": {
            "text/plain": [
              "(-0.007603041511110098, 0.012467905378619625)"
            ]
          },
          "metadata": {},
          "execution_count": 1
        }
      ]
    },
    {
      "cell_type": "markdown",
      "source": [
        "THUC HANH 12\n"
      ],
      "metadata": {
        "id": "5cgKJD7JGl7l"
      }
    },
    {
      "cell_type": "code",
      "source": [
        "from scipy import stats\n",
        "import numpy as np\n",
        "from numpy import random\n",
        "N=10000\n",
        "#N tổng thể mẩu-số lượng\n",
        "a=np.random.normal(0,1,N)\n",
        "mean, sigma=a.mean(), a.std(ddof=1)\n",
        "#trung vị, độ lệch chuẩn\n",
        "conf_int_a=stats.norm.interval(0.68,loc=mean, scale=sigma)\n",
        "conf_int_a \n",
        "# khoảng tin cậy của a\n",
        "(-0.9790880253323332,0.9875661529992649)"
      ],
      "metadata": {
        "colab": {
          "base_uri": "https://localhost:8080/"
        },
        "id": "TvVgOPJ0GpE-",
        "outputId": "9dc57c1c-428c-4c22-838c-466699821d9c"
      },
      "execution_count": 2,
      "outputs": [
        {
          "output_type": "execute_result",
          "data": {
            "text/plain": [
              "(-0.9790880253323332, 0.9875661529992649)"
            ]
          },
          "metadata": {},
          "execution_count": 2
        }
      ]
    },
    {
      "cell_type": "markdown",
      "source": [
        "THUC HANH 15\n",
        "\n",
        "\n"
      ],
      "metadata": {
        "id": "Mj2HXi-kHWdP"
      }
    },
    {
      "cell_type": "code",
      "source": [
        "import math\n",
        "tong_mau=240\n",
        "so_mau=24\n",
        "p=0.06\n",
        "muc_y_nghia=0.05\n",
        "f=so_mau/tong_mau\n",
        "f\n",
        "std_dev= math.sqrt((p*(1 - p))/tong_mau)\n",
        "std_dev\n",
        "z_score = (f - p)/std_dev\n",
        "z_score\n",
        "from scipy import stats\n",
        "#sử dụng thư viên Thống kê gọi hàm cdf\n",
        "p_one_way_value = 1 - stats.norm.cdf(z_score)\n",
        "p_value = p_one_way_value * 2\n",
        "p_value #xấp xỉ 0.01"
      ],
      "metadata": {
        "colab": {
          "base_uri": "https://localhost:8080/"
        },
        "id": "313lFMsyHYPs",
        "outputId": "3baf7812-4cef-4b03-9a58-e3046aa8e859"
      },
      "execution_count": 3,
      "outputs": [
        {
          "output_type": "execute_result",
          "data": {
            "text/plain": [
              "0.009072440449271912"
            ]
          },
          "metadata": {},
          "execution_count": 3
        }
      ]
    },
    {
      "cell_type": "markdown",
      "source": [
        "THUC HANH 16\n"
      ],
      "metadata": {
        "id": "sxHlo994Hu5K"
      }
    },
    {
      "cell_type": "code",
      "source": [
        "import math\n",
        "tong_mau=300\n",
        "so_mau=30\n",
        "p=0.06\n",
        "muc_y_nghia=0.05\n",
        "f=so_mau/tong_mau\n",
        "f\n",
        "std = math.sqrt((p*(1 - p))/tong_mau)\n",
        "std\n",
        "z_score = (f - p)/std\n",
        "z_score\n",
        "from scipy import stats\n",
        "p_one_way_value = 1 - stats.norm.cdf(z_score)\n",
        "p_value = p_one_way_value * 2\n",
        "p_value"
      ],
      "metadata": {
        "colab": {
          "base_uri": "https://localhost:8080/"
        },
        "id": "FiWwG3YRIGpG",
        "outputId": "48a5c3bb-0756-4d60-e5aa-44ddf22fcee1"
      },
      "execution_count": 4,
      "outputs": [
        {
          "output_type": "execute_result",
          "data": {
            "text/plain": [
              "0.0035307619178310823"
            ]
          },
          "metadata": {},
          "execution_count": 4
        }
      ]
    }
  ]
}